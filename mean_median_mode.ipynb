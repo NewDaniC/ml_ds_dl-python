{
 "cells": [
  {
   "cell_type": "code",
   "execution_count": 7,
   "id": "4ca4cc73",
   "metadata": {},
   "outputs": [],
   "source": [
    "import numpy as np\n",
    "\n",
    "# a media é (27000), o desvio padrão (15000) e o numero de amostras (10000).\n",
    "incomes = np.random.normal(27000, 15000, 10000)"
   ]
  },
  {
   "cell_type": "code",
   "execution_count": 8,
   "id": "7338965f",
   "metadata": {},
   "outputs": [
    {
     "data": {
      "text/plain": [
       "27122.36304559299"
      ]
     },
     "execution_count": 8,
     "metadata": {},
     "output_type": "execute_result"
    }
   ],
   "source": [
    "# mean\n",
    "np.mean(incomes)"
   ]
  },
  {
   "cell_type": "code",
   "execution_count": 13,
   "id": "b277cb73",
   "metadata": {},
   "outputs": [
    {
     "data": {
      "image/png": "[encoded data removed]",
      "text/plain": [
       "<Figure size 640x480 with 1 Axes>"
      ]
     },
     "metadata": {},
     "output_type": "display_data"
    }
   ],
   "source": [
    "%matplotlib inline\n",
    "import matplotlib.pyplot as plt\n",
    "plt.hist(incomes, 50)\n",
    "plt.show()"
   ]
  },
  {
   "cell_type": "code",
   "execution_count": 15,
   "id": "a568a194",
   "metadata": {},
   "outputs": [
    {
     "data": {
      "text/plain": [
       "27225.78638273861"
      ]
     },
     "execution_count": 15,
     "metadata": {},
     "output_type": "execute_result"
    }
   ],
   "source": [
    "# median\n",
    "np.median(incomes)"
   ]
  },
  {
   "cell_type": "code",
   "execution_count": 19,
   "id": "e4114275",
   "metadata": {},
   "outputs": [],
   "source": [
    "# adicionando Jeff Bezos:\n",
    "incomes = np.append(incomes, [1000000000])"
   ]
  },
  {
   "cell_type": "code",
   "execution_count": 20,
   "id": "2d50cc2e",
   "metadata": {},
   "outputs": [
    {
     "data": {
      "text/plain": [
       "27228.77779358455"
      ]
     },
     "execution_count": 20,
     "metadata": {},
     "output_type": "execute_result"
    }
   ],
   "source": [
    "np.median(incomes)"
   ]
  },
  {
   "cell_type": "code",
   "execution_count": 21,
   "id": "ad780bd5",
   "metadata": {},
   "outputs": [
    {
     "data": {
      "text/plain": [
       "127109.65208038496"
      ]
     },
     "execution_count": 21,
     "metadata": {},
     "output_type": "execute_result"
    }
   ],
   "source": [
    "np.mean(incomes)"
   ]
  },
  {
   "cell_type": "code",
   "execution_count": 22,
   "id": "fd3039f7",
   "metadata": {},
   "outputs": [
    {
     "data": {
      "text/plain": [
       "array([59, 20, 88, 66, 40, 24, 24, 80, 55, 36, 63, 68, 81, 73, 61, 30, 55,\n",
       "       45, 53, 60, 79, 67, 56, 72, 53, 43, 85, 48, 50, 33, 33, 23, 79, 37,\n",
       "       29, 86, 63, 40, 46, 61, 83, 34, 73, 49, 70, 23, 62, 79, 38, 36, 69,\n",
       "       36, 51, 63, 87, 52, 61, 58, 48, 27, 39, 81, 26, 62, 61, 48, 81, 23,\n",
       "       47, 80, 78, 49, 23, 25, 81, 77, 26, 31, 43, 35, 74, 33, 63, 36, 38,\n",
       "       31, 42, 18, 88, 53, 29, 23, 43, 65, 34, 39, 26, 46, 61, 31, 24, 29,\n",
       "       63, 55, 73, 19, 43, 37, 57, 38, 21, 78, 84, 70, 47, 49, 26, 58, 48,\n",
       "       34, 37, 76, 76, 59, 56, 51, 63, 62, 34, 37, 20, 35, 70, 55, 34, 45,\n",
       "       30, 85, 74, 75, 87, 58, 33, 21, 48, 58, 59, 54, 27, 69, 89, 40, 88,\n",
       "       21, 31, 31, 84, 18, 80, 36, 70, 37, 74, 42, 59, 68, 67, 54, 88, 49,\n",
       "       58, 89, 46, 82, 83, 21, 38, 27, 47, 35, 85, 66, 18, 45, 46, 46, 39,\n",
       "       32, 32, 35, 33, 56, 57, 74, 27, 58, 88, 22, 46, 30, 37, 25, 37, 56,\n",
       "       75, 66, 89, 53, 18, 86, 47, 28, 33, 47, 71, 23, 83, 30, 48, 33, 55,\n",
       "       65, 21, 64, 71, 61, 52, 65, 85, 22, 18, 43, 71, 74, 24, 85, 57, 84,\n",
       "       83, 88, 58, 67, 57, 78, 61, 65, 21, 26, 37, 36, 67, 85, 77, 21, 34,\n",
       "       30, 72, 30, 69, 61, 83, 75, 28, 85, 29, 28, 82, 42, 43, 41, 21, 85,\n",
       "       79, 61, 46, 44, 46, 37, 78, 75, 77, 53, 23, 84, 62, 56, 39, 88, 78,\n",
       "       22, 48, 71, 76, 51, 19, 53, 59, 83, 30, 19, 65, 80, 84, 31, 77, 22,\n",
       "       32, 61, 82, 48, 86, 49, 27, 70, 82, 46, 82, 20, 74, 69, 79, 88, 35,\n",
       "       81, 77, 26, 45, 89, 30, 26, 60, 80, 43, 86, 35, 61, 55, 39, 49, 70,\n",
       "       53, 65, 39, 85, 70, 38, 38, 34, 56, 39, 47, 84, 47, 74, 69, 62, 31,\n",
       "       23, 22, 39, 35, 42, 55, 41, 70, 67, 67, 64, 75, 87, 26, 82, 72, 68,\n",
       "       18, 82, 34, 21, 82, 57, 72, 32, 42, 44, 50, 20, 53, 63, 39, 30, 58,\n",
       "       42, 87, 25, 66, 71, 82, 75, 75, 64, 70, 81, 25, 76, 74, 32, 79, 42,\n",
       "       49, 59, 76, 81, 56, 84, 72, 29, 78, 73, 45, 67, 81, 53, 71, 29, 56,\n",
       "       86, 68, 73, 55, 63, 64, 55, 83, 77, 53, 72, 50, 60, 46, 65, 67, 41,\n",
       "       67, 66, 78, 29, 37, 85, 65, 66, 55, 88, 56, 59, 51, 35, 32, 77, 45,\n",
       "       78, 18, 53, 44, 76, 55, 39, 69, 42, 60, 31, 20, 77, 48, 27, 88, 47,\n",
       "       62, 33, 63, 85, 30, 32, 85, 76, 31, 83, 23, 86, 73, 52, 40, 79, 25,\n",
       "       76, 75, 24, 58, 72, 68, 58])"
      ]
     },
     "execution_count": 22,
     "metadata": {},
     "output_type": "execute_result"
    }
   ],
   "source": [
    "# Mode\n",
    "\n",
    "#gerando idades aleatorias para 500 pessoas\n",
    "ages = np.random.randint(18, high=90, size=500)\n",
    "ages"
   ]
  },
  {
   "cell_type": "code",
   "execution_count": 23,
   "id": "136ff8cb",
   "metadata": {},
   "outputs": [
    {
     "name": "stderr",
     "output_type": "stream",
     "text": [
      "C:\\Users\\danie\\AppData\\Local\\Temp\\ipykernel_18404\\2994774060.py:2: FutureWarning: Unlike other reduction functions (e.g. `skew`, `kurtosis`), the default behavior of `mode` typically preserves the axis it acts along. In SciPy 1.11.0, this behavior will change: the default value of `keepdims` will become False, the `axis` over which the statistic is taken will be eliminated, and the value None will no longer be accepted. Set `keepdims` to True or False to avoid this warning.\n",
      "  stats.mode(ages)\n"
     ]
    },
    {
     "data": {
      "text/plain": [
       "ModeResult(mode=array([85]), count=array([12]))"
      ]
     },
     "execution_count": 23,
     "metadata": {},
     "output_type": "execute_result"
    }
   ],
   "source": [
    "from scipy import stats\n",
    "stats.mode(ages)"
   ]
  },
  {
   "cell_type": "code",
   "execution_count": null,
   "id": "fe0e8319",
   "metadata": {},
   "outputs": [],
   "source": []
  }
 ],
 "metadata": {
  "kernelspec": {
   "display_name": "Python 3 (ipykernel)",
   "language": "python",
   "name": "python3"
  },
  "language_info": {
   "codemirror_mode": {
    "name": "ipython",
    "version": 3
   },
   "file_extension": ".py",
   "mimetype": "text/x-python",
   "name": "python",
   "nbconvert_exporter": "python",
   "pygments_lexer": "ipython3",
   "version": "3.10.9"
  }
 },
 "nbformat": 4,
 "nbformat_minor": 5
}
